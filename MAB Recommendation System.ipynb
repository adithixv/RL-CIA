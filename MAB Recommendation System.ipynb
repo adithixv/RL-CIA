{
 "cells": [
  {
   "cell_type": "code",
   "execution_count": 1,
   "id": "ec10fe6a",
   "metadata": {},
   "outputs": [],
   "source": [
    "import pandas as pd\n",
    "import numpy as np\n",
    "import random"
   ]
  },
  {
   "cell_type": "code",
   "execution_count": 2,
   "id": "976663a1",
   "metadata": {},
   "outputs": [],
   "source": [
    "url = 'http://files.grouplens.org/datasets/movielens/ml-100k/u.data'\n",
    "column_names = ['user_id', 'movie_id', 'rating', 'timestamp']\n",
    "ratings = pd.read_csv(url, sep='\\t', names=column_names)"
   ]
  },
  {
   "cell_type": "code",
   "execution_count": 3,
   "id": "3187c797",
   "metadata": {},
   "outputs": [],
   "source": [
    "epsilon = 0.1\n",
    "n_arms = ratings['movie_id'].nunique()\n",
    "movie_ids = ratings['movie_id'].unique()\n",
    "value_estimates = np.zeros(n_arms)\n",
    "movie_counts = np.zeros(n_arms)"
   ]
  },
  {
   "cell_type": "code",
   "execution_count": 4,
   "id": "f31d4a54",
   "metadata": {},
   "outputs": [],
   "source": [
    "def select_movie():\n",
    "    if random.uniform(0, 1) < epsilon:\n",
    "        return np.random.choice(movie_ids)\n",
    "    else:\n",
    "        return movie_ids[np.argmax(value_estimates)]"
   ]
  },
  {
   "cell_type": "code",
   "execution_count": 5,
   "id": "0a59a36e",
   "metadata": {},
   "outputs": [],
   "source": [
    "def update_estimates(movie_id, reward):\n",
    "    movie_index = np.where(movie_ids == movie_id)[0][0]\n",
    "    movie_counts[movie_index] += 1\n",
    "    n = movie_counts[movie_index]\n",
    "    value_estimates[movie_index] += (reward - value_estimates[movie_index]) / n"
   ]
  },
  {
   "cell_type": "code",
   "execution_count": 6,
   "id": "5d68c962",
   "metadata": {},
   "outputs": [],
   "source": [
    "n_rounds = 10000\n",
    "for _ in range(n_rounds):\n",
    "    selected_movie = select_movie()\n",
    "    sample_rating = ratings[ratings['movie_id'] == selected_movie].sample(1)['rating'].values[0]\n",
    "    update_estimates(selected_movie, sample_rating)"
   ]
  },
  {
   "cell_type": "code",
   "execution_count": 8,
   "id": "b945a50f",
   "metadata": {},
   "outputs": [
    {
     "name": "stdout",
     "output_type": "stream",
     "text": [
      "Top recommended movies: [914, 1653, 1467, 1643, 1159, 851, 1155, 1500, 1449, 753]\n"
     ]
    }
   ],
   "source": [
    "top_movies = movie_ids[np.argsort(value_estimates)[-10:][::-1]]\n",
    "print(\"Top recommended movies:\", list(top_movies))"
   ]
  }
 ],
 "metadata": {
  "kernelspec": {
   "display_name": "Python 3 (ipykernel)",
   "language": "python",
   "name": "python3"
  },
  "language_info": {
   "codemirror_mode": {
    "name": "ipython",
    "version": 3
   },
   "file_extension": ".py",
   "mimetype": "text/x-python",
   "name": "python",
   "nbconvert_exporter": "python",
   "pygments_lexer": "ipython3",
   "version": "3.9.12"
  }
 },
 "nbformat": 4,
 "nbformat_minor": 5
}
